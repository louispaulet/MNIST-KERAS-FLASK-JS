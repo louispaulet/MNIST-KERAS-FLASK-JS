{
  "nbformat": 4,
  "nbformat_minor": 0,
  "metadata": {
    "colab": {
      "provenance": []
    },
    "kernelspec": {
      "name": "python3",
      "display_name": "Python 3"
    },
    "language_info": {
      "name": "python"
    }
  },
  "cells": [
    {
      "cell_type": "markdown",
      "source": [
        "# Install libs\n",
        "\n",
        "We need some libs to expose a Flask URL outside of google colab.  \n",
        "Ngrok will provide a URL (free ngrok account needed).  \n",
        "Flask-CORS will allow requests coming from a cross origin.  \n",
        "pyngrok allows the storing of user-credentials."
      ],
      "metadata": {
        "id": "kk3vnkYZUfyJ"
      }
    },
    {
      "cell_type": "code",
      "execution_count": 7,
      "metadata": {
        "colab": {
          "base_uri": "https://localhost:8080/"
        },
        "id": "qs29LHjEMv8E",
        "outputId": "eb0a5f50-3f1d-482c-a656-6ab6abc52243"
      },
      "outputs": [
        {
          "output_type": "stream",
          "name": "stdout",
          "text": [
            "Looking in indexes: https://pypi.org/simple, https://us-python.pkg.dev/colab-wheels/public/simple/\n",
            "Requirement already satisfied: Flask in /usr/local/lib/python3.9/dist-packages (2.2.3)\n",
            "Requirement already satisfied: flask_ngrok in /usr/local/lib/python3.9/dist-packages (0.0.25)\n",
            "Requirement already satisfied: Jinja2>=3.0 in /usr/local/lib/python3.9/dist-packages (from Flask) (3.1.2)\n",
            "Requirement already satisfied: importlib-metadata>=3.6.0 in /usr/local/lib/python3.9/dist-packages (from Flask) (6.0.0)\n",
            "Requirement already satisfied: itsdangerous>=2.0 in /usr/local/lib/python3.9/dist-packages (from Flask) (2.1.2)\n",
            "Requirement already satisfied: click>=8.0 in /usr/local/lib/python3.9/dist-packages (from Flask) (8.1.3)\n",
            "Requirement already satisfied: Werkzeug>=2.2.2 in /usr/local/lib/python3.9/dist-packages (from Flask) (2.2.3)\n",
            "Requirement already satisfied: requests in /usr/local/lib/python3.9/dist-packages (from flask_ngrok) (2.25.1)\n",
            "Requirement already satisfied: zipp>=0.5 in /usr/local/lib/python3.9/dist-packages (from importlib-metadata>=3.6.0->Flask) (3.15.0)\n",
            "Requirement already satisfied: MarkupSafe>=2.0 in /usr/local/lib/python3.9/dist-packages (from Jinja2>=3.0->Flask) (2.1.2)\n",
            "Requirement already satisfied: urllib3<1.27,>=1.21.1 in /usr/local/lib/python3.9/dist-packages (from requests->flask_ngrok) (1.26.15)\n",
            "Requirement already satisfied: certifi>=2017.4.17 in /usr/local/lib/python3.9/dist-packages (from requests->flask_ngrok) (2022.12.7)\n",
            "Requirement already satisfied: idna<3,>=2.5 in /usr/local/lib/python3.9/dist-packages (from requests->flask_ngrok) (2.10)\n",
            "Requirement already satisfied: chardet<5,>=3.0.2 in /usr/local/lib/python3.9/dist-packages (from requests->flask_ngrok) (4.0.0)\n"
          ]
        }
      ],
      "source": [
        "!pip install Flask flask_ngrok\n",
        "!curl -s https://ngrok-agent.s3.amazonaws.com/ngrok.asc | sudo tee /etc/apt/trusted.gpg.d/ngrok.asc >/dev/null && echo \"deb https://ngrok-agent.s3.amazonaws.com buster main\" | sudo tee /etc/apt/sources.list.d/ngrok.list && sudo apt update && sudo apt install ngrok\n",
        "!pip install Flask-CORS\n",
        "!pip install pyngrok"
      ]
    },
    {
      "cell_type": "code",
      "source": [
        "!ngrok authtoken \"INSERT_PERSONAL_TOKEN_HERE\""
      ],
      "metadata": {
        "colab": {
          "base_uri": "https://localhost:8080/"
        },
        "id": "kiVdY3SQN9G-",
        "outputId": "6770bf1a-f458-4c25-a869-af1fe3f88bb6"
      },
      "execution_count": 15,
      "outputs": [
        {
          "output_type": "stream",
          "name": "stdout",
          "text": [
            "Authtoken saved to configuration file: /root/.ngrok2/ngrok.yml\n"
          ]
        }
      ]
    },
    {
      "cell_type": "markdown",
      "source": [
        "# Launch server\n",
        "\n",
        "Logs are displayed here so you can check whether the route sends back 200 or 500 status codes, or if you are calling a bad route from your front end.  "
      ],
      "metadata": {
        "id": "ecLTMnJgVC9R"
      }
    },
    {
      "cell_type": "code",
      "source": [
        "import base64\n",
        "import io\n",
        "import numpy as np\n",
        "from PIL import Image\n",
        "from flask import Flask, request, jsonify\n",
        "from tensorflow.keras.models import load_model\n",
        "from flask_ngrok import run_with_ngrok\n",
        "from flask_cors import CORS\n",
        "\n",
        "app = Flask(__name__)\n",
        "CORS(app)\n",
        "run_with_ngrok(app)   \n",
        "\n",
        "# Load the saved Keras model\n",
        "model = load_model('mnist_model.h5')\n",
        "\n",
        "def preprocess_image(image):\n",
        "    image = image.resize((28, 28), Image.ANTIALIAS).convert('L')\n",
        "    image = np.array(image)\n",
        "    image = image.reshape(1, 28, 28, 1)\n",
        "    image = image.astype('float32')\n",
        "    image /= 255\n",
        "    return image\n",
        "\n",
        "@app.route('/predict', methods=['POST'])\n",
        "def predict():\n",
        "    if 'image' not in request.files:\n",
        "        return jsonify({'error': 'No image provided'}), 400\n",
        "\n",
        "    image_file = request.files['image']\n",
        "    image = Image.open(io.BytesIO(image_file.read()))\n",
        "\n",
        "    preprocessed_image = preprocess_image(image)\n",
        "    prediction = model.predict(preprocessed_image)\n",
        "    predicted_class = np.argmax(prediction, axis=-1)[0]\n",
        "\n",
        "    return jsonify({'prediction': int(predicted_class)})\n",
        "\n",
        "if __name__ == '__main__':\n",
        "    app.run()\n"
      ],
      "metadata": {
        "colab": {
          "base_uri": "https://localhost:8080/"
        },
        "id": "YIdq2h0vMzKX",
        "outputId": "ec6b73d8-16b2-4b66-efd0-e5bc52f39548"
      },
      "execution_count": 18,
      "outputs": [
        {
          "output_type": "stream",
          "name": "stdout",
          "text": [
            " * Serving Flask app '__main__'\n",
            " * Debug mode: off\n"
          ]
        },
        {
          "output_type": "stream",
          "name": "stderr",
          "text": [
            "INFO:werkzeug:\u001b[31m\u001b[1mWARNING: This is a development server. Do not use it in a production deployment. Use a production WSGI server instead.\u001b[0m\n",
            " * Running on http://127.0.0.1:5000\n",
            "INFO:werkzeug:\u001b[33mPress CTRL+C to quit\u001b[0m\n"
          ]
        },
        {
          "output_type": "stream",
          "name": "stdout",
          "text": [
            " * Running on http://3a1f-35-196-229-219.ngrok.io\n",
            " * Traffic stats available on http://127.0.0.1:4040\n"
          ]
        },
        {
          "output_type": "stream",
          "name": "stderr",
          "text": [
            "INFO:werkzeug:127.0.0.1 - - [15/Mar/2023 03:18:25] \"\u001b[33mGET / HTTP/1.1\u001b[0m\" 404 -\n",
            "INFO:werkzeug:127.0.0.1 - - [15/Mar/2023 03:18:25] \"\u001b[33mGET /favicon.ico HTTP/1.1\u001b[0m\" 404 -\n"
          ]
        },
        {
          "output_type": "stream",
          "name": "stdout",
          "text": [
            "1/1 [==============================] - 0s 99ms/step\n"
          ]
        },
        {
          "output_type": "stream",
          "name": "stderr",
          "text": [
            "INFO:werkzeug:127.0.0.1 - - [15/Mar/2023 03:18:40] \"POST /predict HTTP/1.1\" 200 -\n"
          ]
        },
        {
          "output_type": "stream",
          "name": "stdout",
          "text": [
            "1/1 [==============================] - 0s 24ms/step\n"
          ]
        },
        {
          "output_type": "stream",
          "name": "stderr",
          "text": [
            "INFO:werkzeug:127.0.0.1 - - [15/Mar/2023 03:18:51] \"POST /predict HTTP/1.1\" 200 -\n"
          ]
        },
        {
          "output_type": "stream",
          "name": "stdout",
          "text": [
            "1/1 [==============================] - 0s 31ms/step\n"
          ]
        },
        {
          "output_type": "stream",
          "name": "stderr",
          "text": [
            "INFO:werkzeug:127.0.0.1 - - [15/Mar/2023 03:18:54] \"POST /predict HTTP/1.1\" 200 -\n"
          ]
        },
        {
          "output_type": "stream",
          "name": "stdout",
          "text": [
            "1/1 [==============================] - 0s 44ms/step\n"
          ]
        },
        {
          "output_type": "stream",
          "name": "stderr",
          "text": [
            "INFO:werkzeug:127.0.0.1 - - [15/Mar/2023 03:20:29] \"POST /predict HTTP/1.1\" 200 -\n"
          ]
        },
        {
          "output_type": "stream",
          "name": "stdout",
          "text": [
            "1/1 [==============================] - 0s 25ms/step\n"
          ]
        },
        {
          "output_type": "stream",
          "name": "stderr",
          "text": [
            "INFO:werkzeug:127.0.0.1 - - [15/Mar/2023 03:20:31] \"POST /predict HTTP/1.1\" 200 -\n"
          ]
        },
        {
          "output_type": "stream",
          "name": "stdout",
          "text": [
            "1/1 [==============================] - 0s 29ms/step\n"
          ]
        },
        {
          "output_type": "stream",
          "name": "stderr",
          "text": [
            "INFO:werkzeug:127.0.0.1 - - [15/Mar/2023 03:20:34] \"POST /predict HTTP/1.1\" 200 -\n"
          ]
        },
        {
          "output_type": "stream",
          "name": "stdout",
          "text": [
            "1/1 [==============================] - 0s 27ms/step\n"
          ]
        },
        {
          "output_type": "stream",
          "name": "stderr",
          "text": [
            "INFO:werkzeug:127.0.0.1 - - [15/Mar/2023 03:24:16] \"POST /predict HTTP/1.1\" 200 -\n",
            "INFO:werkzeug:127.0.0.1 - - [15/Mar/2023 03:26:09] \"\u001b[33mGET / HTTP/1.1\u001b[0m\" 404 -\n"
          ]
        },
        {
          "output_type": "stream",
          "name": "stdout",
          "text": [
            "1/1 [==============================] - 0s 26ms/step\n"
          ]
        },
        {
          "output_type": "stream",
          "name": "stderr",
          "text": [
            "INFO:werkzeug:127.0.0.1 - - [15/Mar/2023 03:26:36] \"POST /predict HTTP/1.1\" 200 -\n"
          ]
        }
      ]
    },
    {
      "cell_type": "markdown",
      "source": [
        "# Here is the HTML file that is needed\n",
        "\n",
        "This page allows the upload of an image and displays the current digit inference.  \n",
        "\n",
        "Copy-paste the current API address, something like `http://3a1f-35-196-229-219.ngrok.io/` in the provided form on the page.  \n",
        "\n",
        "On image upload, a result will be displayed.  "
      ],
      "metadata": {
        "id": "0W6Gq54DTOQF"
      }
    },
    {
      "cell_type": "markdown",
      "source": [
        "````\n",
        "<!DOCTYPE html>\n",
        "<html lang=\"en\">\n",
        "<head>\n",
        "  <meta charset=\"UTF-8\">\n",
        "  <meta name=\"viewport\" content=\"width=device-width, initial-scale=1.0\">\n",
        "  <title>MNIST Prediction</title>\n",
        "</head>\n",
        "<body>\n",
        "  <h1>MNIST Prediction</h1>\n",
        "  <form id=\"server-url-form\">\n",
        "    <label for=\"server-url-input\">API Server URL:</label>\n",
        "    <input type=\"text\" id=\"server-url-input\" value=\"http://127.0.0.1:5000\" required>\n",
        "  </form>\n",
        "  <form id=\"image-upload-form\">\n",
        "    <label for=\"image-input\">Upload an image:</label>\n",
        "    <input type=\"file\" id=\"image-input\" accept=\"image/*\">\n",
        "  </form>\n",
        "  <div id=\"result\"></div>\n",
        "  <script>\n",
        "    async function sendImage(imageFile, serverUrl) {\n",
        "      const formData = new FormData();\n",
        "      formData.append('image', imageFile);\n",
        "\n",
        "      const response = await fetch(`${serverUrl}/predict`, {\n",
        "        method: 'POST',\n",
        "        body: formData\n",
        "      });\n",
        "\n",
        "      if (!response.ok) {\n",
        "        throw new Error(`HTTP error: ${response.status}`);\n",
        "      }\n",
        "\n",
        "      const result = await response.json();\n",
        "      return result.prediction;\n",
        "    }\n",
        "\n",
        "    document.getElementById('image-input').addEventListener('change', async (event) => {\n",
        "      const imageFile = event.target.files[0];\n",
        "      const serverUrl = document.getElementById('server-url-input').value;\n",
        "\n",
        "      if (imageFile) {\n",
        "        try {\n",
        "          const prediction = await sendImage(imageFile, serverUrl);\n",
        "          document.getElementById('result').textContent = `Prediction: ${prediction}`;\n",
        "        } catch (error) {\n",
        "          console.error('Error sending image:', error);\n",
        "          document.getElementById('result').textContent = 'Error: Failed to get a prediction.';\n",
        "        }\n",
        "      } else {\n",
        "        document.getElementById('result').textContent = '';\n",
        "      }\n",
        "    });\n",
        "  </script>\n",
        "</body>\n",
        "</html>\n",
        "````"
      ],
      "metadata": {
        "id": "c84hMCPFTVly"
      }
    }
  ]
}